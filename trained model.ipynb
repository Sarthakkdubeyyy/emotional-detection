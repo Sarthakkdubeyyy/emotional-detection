{
 "cells": [
  {
   "cell_type": "code",
   "execution_count": 28,
   "id": "a7c30ab1",
   "metadata": {},
   "outputs": [
    {
     "name": "stdout",
     "output_type": "stream",
     "text": [
      "Requirement already satisfied: keras_preprocessing in /Users/sarthakdubey/anaconda3/lib/python3.10/site-packages (1.1.2)\r\n",
      "Requirement already satisfied: numpy>=1.9.1 in /Users/sarthakdubey/anaconda3/lib/python3.10/site-packages (from keras_preprocessing) (1.23.5)\r\n",
      "Requirement already satisfied: six>=1.9.0 in /Users/sarthakdubey/anaconda3/lib/python3.10/site-packages (from keras_preprocessing) (1.16.0)\r\n"
     ]
    }
   ],
   "source": [
    "from keras.utils import to_categorical\n",
    "!pip install keras_preprocessing\n",
    "from keras_preprocessing.image import load_img\n",
    "from keras.models import Sequential\n",
    "from keras.layers import Dense, Conv2D, Dropout, Flatten, MaxPooling2D\n",
    "import os\n",
    "import pandas as pd\n",
    "import numpy as np"
   ]
  },
  {
   "cell_type": "code",
   "execution_count": 3,
   "id": "ecfd6327",
   "metadata": {},
   "outputs": [],
   "source": [
    "TRAIN_DIR = 'images/train'\n",
    "TEST_DIR = 'images/test'"
   ]
  },
  {
   "cell_type": "code",
   "execution_count": 4,
   "id": "5510a3fe",
   "metadata": {},
   "outputs": [],
   "source": [
    "def createdataframe(dir):\n",
    "    image_paths = []\n",
    "    labels = []\n",
    "    for label in os.listdir(dir):\n",
    "        for imagename in os.listdir(os.path.join(dir,label)):\n",
    "            image_paths.append(os.path.join(dir,label,imagename))\n",
    "            labels.append(label)\n",
    "        print(label, \"completed\")\n",
    "    return image_paths,labels"
   ]
  },
  {
   "cell_type": "code",
   "execution_count": 5,
   "id": "27330487",
   "metadata": {},
   "outputs": [
    {
     "name": "stdout",
     "output_type": "stream",
     "text": [
      "happy completed\n",
      "sad completed\n",
      "fear completed\n",
      "surprise completed\n",
      "neutral completed\n",
      "angry completed\n",
      "disgust completed\n"
     ]
    }
   ],
   "source": [
    "train = pd.DataFrame()\n",
    "train['image'], train['label'] = createdataframe(TRAIN_DIR)"
   ]
  },
  {
   "cell_type": "code",
   "execution_count": 6,
   "id": "d2c77961",
   "metadata": {},
   "outputs": [
    {
     "name": "stdout",
     "output_type": "stream",
     "text": [
      "                                image    label\n",
      "0         images/train/happy/3578.jpg    happy\n",
      "1        images/train/happy/16988.jpg    happy\n",
      "2         images/train/happy/2666.jpg    happy\n",
      "3         images/train/happy/5109.jpg    happy\n",
      "4        images/train/happy/11981.jpg    happy\n",
      "...                               ...      ...\n",
      "28816  images/train/disgust/10112.jpg  disgust\n",
      "28817  images/train/disgust/21668.jpg  disgust\n",
      "28818   images/train/disgust/7049.jpg  disgust\n",
      "28819   images/train/disgust/9716.jpg  disgust\n",
      "28820   images/train/disgust/3561.jpg  disgust\n",
      "\n",
      "[28821 rows x 2 columns]\n"
     ]
    }
   ],
   "source": [
    "print(train)"
   ]
  },
  {
   "cell_type": "code",
   "execution_count": 7,
   "id": "4defc73c",
   "metadata": {},
   "outputs": [
    {
     "name": "stdout",
     "output_type": "stream",
     "text": [
      "happy completed\n",
      "sad completed\n",
      "fear completed\n",
      "surprise completed\n",
      "neutral completed\n",
      "angry completed\n",
      "disgust completed\n"
     ]
    }
   ],
   "source": [
    "test = pd.DataFrame()\n",
    "test['image'], test['label'] = createdataframe(TEST_DIR)"
   ]
  },
  {
   "cell_type": "code",
   "execution_count": 8,
   "id": "6bee3948",
   "metadata": {},
   "outputs": [
    {
     "name": "stdout",
     "output_type": "stream",
     "text": [
      "                              image    label\n",
      "0       images/test/happy/23933.jpg    happy\n",
      "1       images/test/happy/24906.jpg    happy\n",
      "2       images/test/happy/18033.jpg    happy\n",
      "3       images/test/happy/15271.jpg    happy\n",
      "4       images/test/happy/26888.jpg    happy\n",
      "...                             ...      ...\n",
      "7061  images/test/disgust/20761.jpg  disgust\n",
      "7062  images/test/disgust/28710.jpg  disgust\n",
      "7063  images/test/disgust/23876.jpg  disgust\n",
      "7064   images/test/disgust/9460.jpg  disgust\n",
      "7065  images/test/disgust/35580.jpg  disgust\n",
      "\n",
      "[7066 rows x 2 columns]\n",
      "0         images/test/happy/23933.jpg\n",
      "1         images/test/happy/24906.jpg\n",
      "2         images/test/happy/18033.jpg\n",
      "3         images/test/happy/15271.jpg\n",
      "4         images/test/happy/26888.jpg\n",
      "                    ...              \n",
      "7061    images/test/disgust/20761.jpg\n",
      "7062    images/test/disgust/28710.jpg\n",
      "7063    images/test/disgust/23876.jpg\n",
      "7064     images/test/disgust/9460.jpg\n",
      "7065    images/test/disgust/35580.jpg\n",
      "Name: image, Length: 7066, dtype: object\n"
     ]
    }
   ],
   "source": [
    "print(test)\n",
    "print(test['image'])"
   ]
  },
  {
   "cell_type": "code",
   "execution_count": 9,
   "id": "1c7df048",
   "metadata": {},
   "outputs": [],
   "source": [
    "from tqdm.notebook import tqdm"
   ]
  },
  {
   "cell_type": "code",
   "execution_count": 10,
   "id": "3d540770",
   "metadata": {},
   "outputs": [],
   "source": [
    "def extract_features(images):\n",
    "    features = []\n",
    "    for image in tqdm(images):\n",
    "        img = load_img(image,grayscale =  True )\n",
    "        img = np.array(img)\n",
    "        features.append(img)\n",
    "    features = np.array(features)\n",
    "    features = features.reshape(len(features),48,48,1)\n",
    "    return features\n",
    "    "
   ]
  },
  {
   "cell_type": "code",
   "execution_count": 11,
   "id": "94599b08",
   "metadata": {},
   "outputs": [
    {
     "data": {
      "application/vnd.jupyter.widget-view+json": {
       "model_id": "f0cc983628e5452faeb8db6178ac0f2a",
       "version_major": 2,
       "version_minor": 0
      },
      "text/plain": [
       "  0%|          | 0/28821 [00:00<?, ?it/s]"
      ]
     },
     "metadata": {},
     "output_type": "display_data"
    },
    {
     "name": "stderr",
     "output_type": "stream",
     "text": [
      "/Users/sarthakdubey/anaconda3/lib/python3.10/site-packages/keras_preprocessing/image/utils.py:107: UserWarning: grayscale is deprecated. Please use color_mode = \"grayscale\"\n",
      "  warnings.warn('grayscale is deprecated. Please use '\n"
     ]
    }
   ],
   "source": [
    "train_features = extract_features(train['image']) "
   ]
  },
  {
   "cell_type": "code",
   "execution_count": 12,
   "id": "cfbfb395",
   "metadata": {},
   "outputs": [
    {
     "data": {
      "application/vnd.jupyter.widget-view+json": {
       "model_id": "b9195b8871b74cd29aa23f75ec689574",
       "version_major": 2,
       "version_minor": 0
      },
      "text/plain": [
       "  0%|          | 0/7066 [00:00<?, ?it/s]"
      ]
     },
     "metadata": {},
     "output_type": "display_data"
    }
   ],
   "source": [
    "test_features = extract_features(test['image'])"
   ]
  },
  {
   "cell_type": "code",
   "execution_count": 13,
   "id": "ea09351f",
   "metadata": {},
   "outputs": [],
   "source": [
    "x_train = train_features/255.0\n",
    "x_test = test_features/255.0"
   ]
  },
  {
   "cell_type": "code",
   "execution_count": 14,
   "id": "ce3232c8",
   "metadata": {},
   "outputs": [],
   "source": [
    "from sklearn.preprocessing import LabelEncoder"
   ]
  },
  {
   "cell_type": "code",
   "execution_count": 15,
   "id": "df75bea0",
   "metadata": {},
   "outputs": [
    {
     "data": {
      "text/html": [
       "<style>#sk-container-id-1 {color: black;background-color: white;}#sk-container-id-1 pre{padding: 0;}#sk-container-id-1 div.sk-toggleable {background-color: white;}#sk-container-id-1 label.sk-toggleable__label {cursor: pointer;display: block;width: 100%;margin-bottom: 0;padding: 0.3em;box-sizing: border-box;text-align: center;}#sk-container-id-1 label.sk-toggleable__label-arrow:before {content: \"▸\";float: left;margin-right: 0.25em;color: #696969;}#sk-container-id-1 label.sk-toggleable__label-arrow:hover:before {color: black;}#sk-container-id-1 div.sk-estimator:hover label.sk-toggleable__label-arrow:before {color: black;}#sk-container-id-1 div.sk-toggleable__content {max-height: 0;max-width: 0;overflow: hidden;text-align: left;background-color: #f0f8ff;}#sk-container-id-1 div.sk-toggleable__content pre {margin: 0.2em;color: black;border-radius: 0.25em;background-color: #f0f8ff;}#sk-container-id-1 input.sk-toggleable__control:checked~div.sk-toggleable__content {max-height: 200px;max-width: 100%;overflow: auto;}#sk-container-id-1 input.sk-toggleable__control:checked~label.sk-toggleable__label-arrow:before {content: \"▾\";}#sk-container-id-1 div.sk-estimator input.sk-toggleable__control:checked~label.sk-toggleable__label {background-color: #d4ebff;}#sk-container-id-1 div.sk-label input.sk-toggleable__control:checked~label.sk-toggleable__label {background-color: #d4ebff;}#sk-container-id-1 input.sk-hidden--visually {border: 0;clip: rect(1px 1px 1px 1px);clip: rect(1px, 1px, 1px, 1px);height: 1px;margin: -1px;overflow: hidden;padding: 0;position: absolute;width: 1px;}#sk-container-id-1 div.sk-estimator {font-family: monospace;background-color: #f0f8ff;border: 1px dotted black;border-radius: 0.25em;box-sizing: border-box;margin-bottom: 0.5em;}#sk-container-id-1 div.sk-estimator:hover {background-color: #d4ebff;}#sk-container-id-1 div.sk-parallel-item::after {content: \"\";width: 100%;border-bottom: 1px solid gray;flex-grow: 1;}#sk-container-id-1 div.sk-label:hover label.sk-toggleable__label {background-color: #d4ebff;}#sk-container-id-1 div.sk-serial::before {content: \"\";position: absolute;border-left: 1px solid gray;box-sizing: border-box;top: 0;bottom: 0;left: 50%;z-index: 0;}#sk-container-id-1 div.sk-serial {display: flex;flex-direction: column;align-items: center;background-color: white;padding-right: 0.2em;padding-left: 0.2em;position: relative;}#sk-container-id-1 div.sk-item {position: relative;z-index: 1;}#sk-container-id-1 div.sk-parallel {display: flex;align-items: stretch;justify-content: center;background-color: white;position: relative;}#sk-container-id-1 div.sk-item::before, #sk-container-id-1 div.sk-parallel-item::before {content: \"\";position: absolute;border-left: 1px solid gray;box-sizing: border-box;top: 0;bottom: 0;left: 50%;z-index: -1;}#sk-container-id-1 div.sk-parallel-item {display: flex;flex-direction: column;z-index: 1;position: relative;background-color: white;}#sk-container-id-1 div.sk-parallel-item:first-child::after {align-self: flex-end;width: 50%;}#sk-container-id-1 div.sk-parallel-item:last-child::after {align-self: flex-start;width: 50%;}#sk-container-id-1 div.sk-parallel-item:only-child::after {width: 0;}#sk-container-id-1 div.sk-dashed-wrapped {border: 1px dashed gray;margin: 0 0.4em 0.5em 0.4em;box-sizing: border-box;padding-bottom: 0.4em;background-color: white;}#sk-container-id-1 div.sk-label label {font-family: monospace;font-weight: bold;display: inline-block;line-height: 1.2em;}#sk-container-id-1 div.sk-label-container {text-align: center;}#sk-container-id-1 div.sk-container {/* jupyter's `normalize.less` sets `[hidden] { display: none; }` but bootstrap.min.css set `[hidden] { display: none !important; }` so we also need the `!important` here to be able to override the default hidden behavior on the sphinx rendered scikit-learn.org. See: https://github.com/scikit-learn/scikit-learn/issues/21755 */display: inline-block !important;position: relative;}#sk-container-id-1 div.sk-text-repr-fallback {display: none;}</style><div id=\"sk-container-id-1\" class=\"sk-top-container\"><div class=\"sk-text-repr-fallback\"><pre>LabelEncoder()</pre><b>In a Jupyter environment, please rerun this cell to show the HTML representation or trust the notebook. <br />On GitHub, the HTML representation is unable to render, please try loading this page with nbviewer.org.</b></div><div class=\"sk-container\" hidden><div class=\"sk-item\"><div class=\"sk-estimator sk-toggleable\"><input class=\"sk-toggleable__control sk-hidden--visually\" id=\"sk-estimator-id-1\" type=\"checkbox\" checked><label for=\"sk-estimator-id-1\" class=\"sk-toggleable__label sk-toggleable__label-arrow\">LabelEncoder</label><div class=\"sk-toggleable__content\"><pre>LabelEncoder()</pre></div></div></div></div></div>"
      ],
      "text/plain": [
       "LabelEncoder()"
      ]
     },
     "execution_count": 15,
     "metadata": {},
     "output_type": "execute_result"
    }
   ],
   "source": [
    "le = LabelEncoder()\n",
    "le.fit(train['label'])"
   ]
  },
  {
   "cell_type": "code",
   "execution_count": 16,
   "id": "84b06bdb",
   "metadata": {},
   "outputs": [],
   "source": [
    "y_train = le.transform(train['label'])\n",
    "y_test = le.transform(test['label'])"
   ]
  },
  {
   "cell_type": "code",
   "execution_count": 17,
   "id": "923d77c5",
   "metadata": {},
   "outputs": [],
   "source": [
    "y_train = to_categorical(y_train,num_classes = 7)\n",
    "y_test = to_categorical(y_test,num_classes = 7)"
   ]
  },
  {
   "cell_type": "code",
   "execution_count": 18,
   "id": "f715d10f",
   "metadata": {},
   "outputs": [],
   "source": [
    "model = Sequential()\n",
    "\n",
    "model.add(Conv2D(128, kernel_size=(3,3), activation='relu', input_shape=(48,48,1)))\n",
    "model.add(MaxPooling2D(pool_size=(2,2)))\n",
    "model.add(Dropout(0.4))\n",
    "\n",
    "model.add(Conv2D(256, kernel_size=(3,3), activation='relu'))\n",
    "model.add(MaxPooling2D(pool_size=(2,2)))\n",
    "model.add(Dropout(0.4))\n",
    "\n",
    "model.add(Conv2D(512, kernel_size=(3,3), activation='relu'))\n",
    "model.add(MaxPooling2D(pool_size=(2,2)))\n",
    "model.add(Dropout(0.4))\n",
    "\n",
    "model.add(Conv2D(512, kernel_size=(3,3), activation='relu'))\n",
    "model.add(MaxPooling2D(pool_size=(2,2)))\n",
    "model.add(Dropout(0.4))\n",
    "\n",
    "model.add(Flatten())\n",
    "\n",
    "model.add(Dense(512, activation='relu'))\n",
    "model.add(Dropout(0.4))\n",
    "model.add(Dense(256, activation='relu'))\n",
    "model.add(Dropout(0.3))\n",
    "\n",
    "model.add(Dense(7, activation='softmax'))"
   ]
  },
  {
   "cell_type": "code",
   "execution_count": 19,
   "id": "51a04265",
   "metadata": {},
   "outputs": [],
   "source": [
    "model.compile(optimizer = 'adam', loss = 'categorical_crossentropy', metrics = 'accuracy' )"
   ]
  },
  {
   "cell_type": "code",
   "execution_count": 20,
   "id": "9103ea3f",
   "metadata": {},
   "outputs": [
    {
     "name": "stdout",
     "output_type": "stream",
     "text": [
      "Epoch 1/100\n",
      "226/226 [==============================] - 161s 710ms/step - loss: 1.8268 - accuracy: 0.2429 - val_loss: 1.8040 - val_accuracy: 0.2583\n",
      "Epoch 2/100\n",
      "226/226 [==============================] - 186s 822ms/step - loss: 1.7862 - accuracy: 0.2562 - val_loss: 1.6914 - val_accuracy: 0.3128\n",
      "Epoch 3/100\n",
      "226/226 [==============================] - 188s 830ms/step - loss: 1.6611 - accuracy: 0.3324 - val_loss: 1.5381 - val_accuracy: 0.4113\n",
      "Epoch 4/100\n",
      "226/226 [==============================] - 203s 897ms/step - loss: 1.5387 - accuracy: 0.4019 - val_loss: 1.4170 - val_accuracy: 0.4465\n",
      "Epoch 5/100\n",
      "226/226 [==============================] - 196s 869ms/step - loss: 1.4643 - accuracy: 0.4314 - val_loss: 1.3235 - val_accuracy: 0.4929\n",
      "Epoch 6/100\n",
      "226/226 [==============================] - 202s 896ms/step - loss: 1.4086 - accuracy: 0.4568 - val_loss: 1.3043 - val_accuracy: 0.4983\n",
      "Epoch 7/100\n",
      "226/226 [==============================] - 201s 888ms/step - loss: 1.3637 - accuracy: 0.4750 - val_loss: 1.2593 - val_accuracy: 0.5191\n",
      "Epoch 8/100\n",
      "226/226 [==============================] - 201s 889ms/step - loss: 1.3349 - accuracy: 0.4882 - val_loss: 1.2331 - val_accuracy: 0.5326\n",
      "Epoch 9/100\n",
      "226/226 [==============================] - 230s 1s/step - loss: 1.3059 - accuracy: 0.4984 - val_loss: 1.2098 - val_accuracy: 0.5443\n",
      "Epoch 10/100\n",
      "226/226 [==============================] - 237s 1s/step - loss: 1.2797 - accuracy: 0.5103 - val_loss: 1.1840 - val_accuracy: 0.5509\n",
      "Epoch 11/100\n",
      "226/226 [==============================] - 216s 955ms/step - loss: 1.2576 - accuracy: 0.5190 - val_loss: 1.1794 - val_accuracy: 0.5461\n",
      "Epoch 12/100\n",
      "226/226 [==============================] - 233s 1s/step - loss: 1.2449 - accuracy: 0.5267 - val_loss: 1.1748 - val_accuracy: 0.5480\n",
      "Epoch 13/100\n",
      "226/226 [==============================] - 225s 994ms/step - loss: 1.2297 - accuracy: 0.5317 - val_loss: 1.1519 - val_accuracy: 0.5667\n",
      "Epoch 14/100\n",
      "226/226 [==============================] - 228s 1s/step - loss: 1.2240 - accuracy: 0.5354 - val_loss: 1.1450 - val_accuracy: 0.5630\n",
      "Epoch 15/100\n",
      "226/226 [==============================] - 212s 937ms/step - loss: 1.2039 - accuracy: 0.5435 - val_loss: 1.1348 - val_accuracy: 0.5654\n",
      "Epoch 16/100\n",
      "226/226 [==============================] - 213s 942ms/step - loss: 1.1889 - accuracy: 0.5476 - val_loss: 1.1177 - val_accuracy: 0.5771\n",
      "Epoch 17/100\n",
      "226/226 [==============================] - 203s 897ms/step - loss: 1.1800 - accuracy: 0.5527 - val_loss: 1.1193 - val_accuracy: 0.5739\n",
      "Epoch 18/100\n",
      "226/226 [==============================] - 221s 977ms/step - loss: 1.1739 - accuracy: 0.5554 - val_loss: 1.1009 - val_accuracy: 0.5869\n",
      "Epoch 19/100\n",
      "226/226 [==============================] - 202s 892ms/step - loss: 1.1588 - accuracy: 0.5568 - val_loss: 1.1119 - val_accuracy: 0.5783\n",
      "Epoch 20/100\n",
      "226/226 [==============================] - 202s 892ms/step - loss: 1.1462 - accuracy: 0.5618 - val_loss: 1.0997 - val_accuracy: 0.5866\n",
      "Epoch 21/100\n",
      "226/226 [==============================] - 201s 889ms/step - loss: 1.1394 - accuracy: 0.5647 - val_loss: 1.0818 - val_accuracy: 0.5910\n",
      "Epoch 22/100\n",
      "226/226 [==============================] - 203s 899ms/step - loss: 1.1414 - accuracy: 0.5657 - val_loss: 1.1198 - val_accuracy: 0.5810\n",
      "Epoch 23/100\n",
      "226/226 [==============================] - 204s 905ms/step - loss: 1.1223 - accuracy: 0.5706 - val_loss: 1.0814 - val_accuracy: 0.5931\n",
      "Epoch 24/100\n",
      "226/226 [==============================] - 199s 881ms/step - loss: 1.1114 - accuracy: 0.5761 - val_loss: 1.0866 - val_accuracy: 0.5917\n",
      "Epoch 25/100\n",
      "226/226 [==============================] - 201s 888ms/step - loss: 1.1076 - accuracy: 0.5791 - val_loss: 1.0881 - val_accuracy: 0.5886\n",
      "Epoch 26/100\n",
      "226/226 [==============================] - 197s 871ms/step - loss: 1.1012 - accuracy: 0.5820 - val_loss: 1.0771 - val_accuracy: 0.5982\n",
      "Epoch 27/100\n",
      "226/226 [==============================] - 183s 810ms/step - loss: 1.0915 - accuracy: 0.5843 - val_loss: 1.0741 - val_accuracy: 0.5982\n",
      "Epoch 28/100\n",
      "226/226 [==============================] - 3523s 16s/step - loss: 1.0790 - accuracy: 0.5911 - val_loss: 1.0693 - val_accuracy: 0.6046\n",
      "Epoch 29/100\n",
      "226/226 [==============================] - 2414s 11s/step - loss: 1.0810 - accuracy: 0.5884 - val_loss: 1.0658 - val_accuracy: 0.6009\n",
      "Epoch 30/100\n",
      "226/226 [==============================] - 173s 768ms/step - loss: 1.0720 - accuracy: 0.5960 - val_loss: 1.0651 - val_accuracy: 0.6018\n",
      "Epoch 31/100\n",
      "226/226 [==============================] - 173s 767ms/step - loss: 1.0669 - accuracy: 0.5969 - val_loss: 1.0674 - val_accuracy: 0.6019\n",
      "Epoch 32/100\n",
      "226/226 [==============================] - 186s 825ms/step - loss: 1.0627 - accuracy: 0.5989 - val_loss: 1.0442 - val_accuracy: 0.6110\n",
      "Epoch 33/100\n",
      "226/226 [==============================] - 187s 826ms/step - loss: 1.0514 - accuracy: 0.6035 - val_loss: 1.0520 - val_accuracy: 0.6090\n",
      "Epoch 34/100\n",
      "226/226 [==============================] - 193s 852ms/step - loss: 1.0418 - accuracy: 0.6037 - val_loss: 1.0640 - val_accuracy: 0.6088\n",
      "Epoch 35/100\n",
      "226/226 [==============================] - 188s 832ms/step - loss: 1.0359 - accuracy: 0.6064 - val_loss: 1.0465 - val_accuracy: 0.6074\n",
      "Epoch 36/100\n",
      "226/226 [==============================] - 195s 864ms/step - loss: 1.0261 - accuracy: 0.6141 - val_loss: 1.0568 - val_accuracy: 0.6087\n",
      "Epoch 37/100\n",
      "226/226 [==============================] - 185s 820ms/step - loss: 1.0213 - accuracy: 0.6132 - val_loss: 1.0552 - val_accuracy: 0.6102\n",
      "Epoch 38/100\n",
      "226/226 [==============================] - 185s 820ms/step - loss: 1.0155 - accuracy: 0.6151 - val_loss: 1.0599 - val_accuracy: 0.6064\n",
      "Epoch 39/100\n",
      "226/226 [==============================] - 198s 875ms/step - loss: 1.0141 - accuracy: 0.6164 - val_loss: 1.0494 - val_accuracy: 0.6102\n",
      "Epoch 40/100\n",
      "226/226 [==============================] - 191s 843ms/step - loss: 1.0070 - accuracy: 0.6186 - val_loss: 1.0476 - val_accuracy: 0.6093\n",
      "Epoch 41/100\n",
      "226/226 [==============================] - 204s 902ms/step - loss: 0.9988 - accuracy: 0.6222 - val_loss: 1.0513 - val_accuracy: 0.6139\n",
      "Epoch 42/100\n",
      "226/226 [==============================] - 181s 802ms/step - loss: 0.9946 - accuracy: 0.6271 - val_loss: 1.0459 - val_accuracy: 0.6124\n",
      "Epoch 43/100\n",
      "226/226 [==============================] - 174s 768ms/step - loss: 0.9867 - accuracy: 0.6266 - val_loss: 1.0610 - val_accuracy: 0.6023\n",
      "Epoch 44/100\n",
      "226/226 [==============================] - 181s 799ms/step - loss: 0.9780 - accuracy: 0.6269 - val_loss: 1.0450 - val_accuracy: 0.6190\n",
      "Epoch 45/100\n",
      "226/226 [==============================] - 180s 795ms/step - loss: 0.9768 - accuracy: 0.6314 - val_loss: 1.0434 - val_accuracy: 0.6149\n",
      "Epoch 46/100\n",
      "226/226 [==============================] - 177s 784ms/step - loss: 0.9666 - accuracy: 0.6358 - val_loss: 1.0302 - val_accuracy: 0.6182\n",
      "Epoch 47/100\n",
      "226/226 [==============================] - 182s 806ms/step - loss: 0.9743 - accuracy: 0.6330 - val_loss: 1.0404 - val_accuracy: 0.6189\n",
      "Epoch 48/100\n",
      "226/226 [==============================] - 179s 792ms/step - loss: 0.9622 - accuracy: 0.6380 - val_loss: 1.0366 - val_accuracy: 0.6199\n",
      "Epoch 49/100\n",
      "226/226 [==============================] - 182s 806ms/step - loss: 0.9543 - accuracy: 0.6420 - val_loss: 1.0372 - val_accuracy: 0.6194\n",
      "Epoch 50/100\n",
      "226/226 [==============================] - 184s 817ms/step - loss: 0.9509 - accuracy: 0.6423 - val_loss: 1.0300 - val_accuracy: 0.6244\n",
      "Epoch 51/100\n",
      "226/226 [==============================] - 185s 819ms/step - loss: 0.9390 - accuracy: 0.6444 - val_loss: 1.0443 - val_accuracy: 0.6182\n",
      "Epoch 52/100\n",
      "226/226 [==============================] - 180s 794ms/step - loss: 0.9497 - accuracy: 0.6430 - val_loss: 1.0495 - val_accuracy: 0.6203\n",
      "Epoch 53/100\n",
      "226/226 [==============================] - 181s 801ms/step - loss: 0.9357 - accuracy: 0.6490 - val_loss: 1.0423 - val_accuracy: 0.6189\n",
      "Epoch 54/100\n",
      "226/226 [==============================] - 183s 810ms/step - loss: 0.9346 - accuracy: 0.6512 - val_loss: 1.0378 - val_accuracy: 0.6197\n",
      "Epoch 55/100\n",
      "226/226 [==============================] - 182s 804ms/step - loss: 0.9251 - accuracy: 0.6578 - val_loss: 1.0260 - val_accuracy: 0.6248\n",
      "Epoch 56/100\n"
     ]
    },
    {
     "name": "stdout",
     "output_type": "stream",
     "text": [
      "226/226 [==============================] - 179s 793ms/step - loss: 0.9211 - accuracy: 0.6574 - val_loss: 1.0328 - val_accuracy: 0.6227\n",
      "Epoch 57/100\n",
      "226/226 [==============================] - 179s 793ms/step - loss: 0.9135 - accuracy: 0.6560 - val_loss: 1.0270 - val_accuracy: 0.6274\n",
      "Epoch 58/100\n",
      "226/226 [==============================] - 179s 793ms/step - loss: 0.9094 - accuracy: 0.6600 - val_loss: 1.0439 - val_accuracy: 0.6228\n",
      "Epoch 59/100\n",
      "226/226 [==============================] - 178s 787ms/step - loss: 0.9065 - accuracy: 0.6633 - val_loss: 1.0383 - val_accuracy: 0.6226\n",
      "Epoch 60/100\n",
      "226/226 [==============================] - 177s 785ms/step - loss: 0.8989 - accuracy: 0.6630 - val_loss: 1.0569 - val_accuracy: 0.6166\n",
      "Epoch 61/100\n",
      "226/226 [==============================] - 177s 785ms/step - loss: 0.8949 - accuracy: 0.6643 - val_loss: 1.0375 - val_accuracy: 0.6203\n",
      "Epoch 62/100\n",
      "226/226 [==============================] - 180s 795ms/step - loss: 0.8913 - accuracy: 0.6663 - val_loss: 1.0275 - val_accuracy: 0.6257\n",
      "Epoch 63/100\n",
      "226/226 [==============================] - 181s 799ms/step - loss: 0.8792 - accuracy: 0.6728 - val_loss: 1.0382 - val_accuracy: 0.6285\n",
      "Epoch 64/100\n",
      "226/226 [==============================] - 251s 1s/step - loss: 0.8806 - accuracy: 0.6716 - val_loss: 1.0352 - val_accuracy: 0.6303\n",
      "Epoch 65/100\n",
      "226/226 [==============================] - 239s 1s/step - loss: 0.8682 - accuracy: 0.6765 - val_loss: 1.0382 - val_accuracy: 0.6204\n",
      "Epoch 66/100\n",
      "226/226 [==============================] - 238s 1s/step - loss: 0.8676 - accuracy: 0.6744 - val_loss: 1.0491 - val_accuracy: 0.6214\n",
      "Epoch 67/100\n",
      "226/226 [==============================] - 235s 1s/step - loss: 0.8746 - accuracy: 0.6739 - val_loss: 1.0230 - val_accuracy: 0.6289\n",
      "Epoch 68/100\n",
      "226/226 [==============================] - 217s 959ms/step - loss: 0.8611 - accuracy: 0.6815 - val_loss: 1.0300 - val_accuracy: 0.6291\n",
      "Epoch 69/100\n",
      "226/226 [==============================] - 210s 930ms/step - loss: 0.8552 - accuracy: 0.6840 - val_loss: 1.0326 - val_accuracy: 0.6274\n",
      "Epoch 70/100\n",
      "226/226 [==============================] - 212s 937ms/step - loss: 0.8515 - accuracy: 0.6858 - val_loss: 1.0339 - val_accuracy: 0.6326\n",
      "Epoch 71/100\n",
      "226/226 [==============================] - 212s 940ms/step - loss: 0.8516 - accuracy: 0.6835 - val_loss: 1.0270 - val_accuracy: 0.6285\n",
      "Epoch 72/100\n",
      "226/226 [==============================] - 202s 894ms/step - loss: 0.8402 - accuracy: 0.6864 - val_loss: 1.0339 - val_accuracy: 0.6289\n",
      "Epoch 73/100\n",
      "226/226 [==============================] - 199s 880ms/step - loss: 0.8428 - accuracy: 0.6883 - val_loss: 1.0286 - val_accuracy: 0.6264\n",
      "Epoch 74/100\n",
      "226/226 [==============================] - 198s 876ms/step - loss: 0.8341 - accuracy: 0.6910 - val_loss: 1.0274 - val_accuracy: 0.6313\n",
      "Epoch 75/100\n",
      "226/226 [==============================] - 199s 882ms/step - loss: 0.8386 - accuracy: 0.6915 - val_loss: 1.0185 - val_accuracy: 0.6322\n",
      "Epoch 76/100\n",
      "226/226 [==============================] - 199s 880ms/step - loss: 0.8308 - accuracy: 0.6968 - val_loss: 1.0250 - val_accuracy: 0.6306\n",
      "Epoch 77/100\n",
      "226/226 [==============================] - 200s 886ms/step - loss: 0.8228 - accuracy: 0.6948 - val_loss: 1.0315 - val_accuracy: 0.6316\n",
      "Epoch 78/100\n",
      "226/226 [==============================] - 200s 884ms/step - loss: 0.8188 - accuracy: 0.6960 - val_loss: 1.0271 - val_accuracy: 0.6340\n",
      "Epoch 79/100\n",
      "226/226 [==============================] - 196s 868ms/step - loss: 0.8182 - accuracy: 0.6979 - val_loss: 1.0241 - val_accuracy: 0.6309\n",
      "Epoch 80/100\n",
      "226/226 [==============================] - 195s 863ms/step - loss: 0.8037 - accuracy: 0.7038 - val_loss: 1.0290 - val_accuracy: 0.6247\n",
      "Epoch 81/100\n",
      "226/226 [==============================] - 196s 866ms/step - loss: 0.8032 - accuracy: 0.7026 - val_loss: 1.0310 - val_accuracy: 0.6323\n",
      "Epoch 82/100\n",
      "226/226 [==============================] - 194s 858ms/step - loss: 0.8050 - accuracy: 0.7031 - val_loss: 1.0404 - val_accuracy: 0.6286\n",
      "Epoch 83/100\n",
      "226/226 [==============================] - 192s 851ms/step - loss: 0.7858 - accuracy: 0.7084 - val_loss: 1.0291 - val_accuracy: 0.6277\n",
      "Epoch 84/100\n",
      "226/226 [==============================] - 192s 849ms/step - loss: 0.8035 - accuracy: 0.7026 - val_loss: 1.0340 - val_accuracy: 0.6289\n",
      "Epoch 85/100\n",
      "226/226 [==============================] - 185s 819ms/step - loss: 0.7962 - accuracy: 0.7077 - val_loss: 1.0343 - val_accuracy: 0.6333\n",
      "Epoch 86/100\n",
      "226/226 [==============================] - 185s 820ms/step - loss: 0.7915 - accuracy: 0.7080 - val_loss: 1.0330 - val_accuracy: 0.6262\n",
      "Epoch 87/100\n",
      "226/226 [==============================] - 190s 840ms/step - loss: 0.7817 - accuracy: 0.7132 - val_loss: 1.0483 - val_accuracy: 0.6243\n",
      "Epoch 88/100\n",
      "226/226 [==============================] - 188s 832ms/step - loss: 0.7700 - accuracy: 0.7169 - val_loss: 1.0426 - val_accuracy: 0.6306\n",
      "Epoch 89/100\n",
      "226/226 [==============================] - 188s 833ms/step - loss: 0.7756 - accuracy: 0.7168 - val_loss: 1.0307 - val_accuracy: 0.6302\n",
      "Epoch 90/100\n",
      "226/226 [==============================] - 192s 848ms/step - loss: 0.7807 - accuracy: 0.7155 - val_loss: 1.0309 - val_accuracy: 0.6361\n",
      "Epoch 91/100\n",
      "226/226 [==============================] - 191s 843ms/step - loss: 0.7681 - accuracy: 0.7193 - val_loss: 1.0368 - val_accuracy: 0.6274\n",
      "Epoch 92/100\n",
      "226/226 [==============================] - 190s 843ms/step - loss: 0.7594 - accuracy: 0.7193 - val_loss: 1.0449 - val_accuracy: 0.6250\n",
      "Epoch 93/100\n",
      "226/226 [==============================] - 189s 838ms/step - loss: 0.7636 - accuracy: 0.7175 - val_loss: 1.0367 - val_accuracy: 0.6309\n",
      "Epoch 94/100\n",
      "226/226 [==============================] - 190s 841ms/step - loss: 0.7603 - accuracy: 0.7223 - val_loss: 1.0398 - val_accuracy: 0.6296\n",
      "Epoch 95/100\n",
      "226/226 [==============================] - 190s 839ms/step - loss: 0.7617 - accuracy: 0.7222 - val_loss: 1.0238 - val_accuracy: 0.6359\n",
      "Epoch 96/100\n",
      "226/226 [==============================] - 189s 837ms/step - loss: 0.7490 - accuracy: 0.7245 - val_loss: 1.0540 - val_accuracy: 0.6238\n",
      "Epoch 97/100\n",
      "226/226 [==============================] - 189s 835ms/step - loss: 0.7425 - accuracy: 0.7299 - val_loss: 1.0333 - val_accuracy: 0.6305\n",
      "Epoch 98/100\n",
      "226/226 [==============================] - 188s 832ms/step - loss: 0.7459 - accuracy: 0.7264 - val_loss: 1.0589 - val_accuracy: 0.6329\n",
      "Epoch 99/100\n",
      "226/226 [==============================] - 191s 843ms/step - loss: 0.7422 - accuracy: 0.7303 - val_loss: 1.0442 - val_accuracy: 0.6299\n",
      "Epoch 100/100\n",
      "226/226 [==============================] - 190s 843ms/step - loss: 0.7363 - accuracy: 0.7299 - val_loss: 1.0491 - val_accuracy: 0.6312\n"
     ]
    },
    {
     "data": {
      "text/plain": [
       "<keras.src.callbacks.History at 0x17db1eb60>"
      ]
     },
     "execution_count": 20,
     "metadata": {},
     "output_type": "execute_result"
    }
   ],
   "source": [
    "model.fit(x= x_train,y = y_train, batch_size = 128, epochs = 100, validation_data = (x_test,y_test)) "
   ]
  },
  {
   "cell_type": "code",
   "execution_count": 22,
   "id": "bb83e83e",
   "metadata": {},
   "outputs": [],
   "source": [
    "model_json = model.to_json()\n",
    "with open(\"emotiondetector.json\",'w') as json_file:\n",
    "    json_file.write(model_json)\n",
    "model.save(\"emotiondetector.h5\")"
   ]
  },
  {
   "cell_type": "code",
   "execution_count": 23,
   "id": "dde3c2f0",
   "metadata": {},
   "outputs": [],
   "source": [
    "from keras.models import model_from_json"
   ]
  },
  {
   "cell_type": "code",
   "execution_count": 24,
   "id": "74275f0f",
   "metadata": {},
   "outputs": [
    {
     "ename": "FileNotFoundError",
     "evalue": "[Errno 2] No such file or directory: 'facialemotionmodel.json'",
     "output_type": "error",
     "traceback": [
      "\u001b[0;31m---------------------------------------------------------------------------\u001b[0m",
      "\u001b[0;31mFileNotFoundError\u001b[0m                         Traceback (most recent call last)",
      "Cell \u001b[0;32mIn[24], line 1\u001b[0m\n\u001b[0;32m----> 1\u001b[0m json_file \u001b[38;5;241m=\u001b[39m \u001b[38;5;28;43mopen\u001b[39;49m\u001b[43m(\u001b[49m\u001b[38;5;124;43m\"\u001b[39;49m\u001b[38;5;124;43mfacialemotionmodel.json\u001b[39;49m\u001b[38;5;124;43m\"\u001b[39;49m\u001b[43m,\u001b[49m\u001b[43m \u001b[49m\u001b[38;5;124;43m\"\u001b[39;49m\u001b[38;5;124;43mr\u001b[39;49m\u001b[38;5;124;43m\"\u001b[39;49m\u001b[43m)\u001b[49m\n\u001b[1;32m      2\u001b[0m model_json \u001b[38;5;241m=\u001b[39m json_file\u001b[38;5;241m.\u001b[39mread()\n\u001b[1;32m      3\u001b[0m json_file\u001b[38;5;241m.\u001b[39mclose()\n",
      "File \u001b[0;32m~/anaconda3/lib/python3.10/site-packages/IPython/core/interactiveshell.py:282\u001b[0m, in \u001b[0;36m_modified_open\u001b[0;34m(file, *args, **kwargs)\u001b[0m\n\u001b[1;32m    275\u001b[0m \u001b[38;5;28;01mif\u001b[39;00m file \u001b[38;5;129;01min\u001b[39;00m {\u001b[38;5;241m0\u001b[39m, \u001b[38;5;241m1\u001b[39m, \u001b[38;5;241m2\u001b[39m}:\n\u001b[1;32m    276\u001b[0m     \u001b[38;5;28;01mraise\u001b[39;00m \u001b[38;5;167;01mValueError\u001b[39;00m(\n\u001b[1;32m    277\u001b[0m         \u001b[38;5;124mf\u001b[39m\u001b[38;5;124m\"\u001b[39m\u001b[38;5;124mIPython won\u001b[39m\u001b[38;5;124m'\u001b[39m\u001b[38;5;124mt let you open fd=\u001b[39m\u001b[38;5;132;01m{\u001b[39;00mfile\u001b[38;5;132;01m}\u001b[39;00m\u001b[38;5;124m by default \u001b[39m\u001b[38;5;124m\"\u001b[39m\n\u001b[1;32m    278\u001b[0m         \u001b[38;5;124m\"\u001b[39m\u001b[38;5;124mas it is likely to crash IPython. If you know what you are doing, \u001b[39m\u001b[38;5;124m\"\u001b[39m\n\u001b[1;32m    279\u001b[0m         \u001b[38;5;124m\"\u001b[39m\u001b[38;5;124myou can use builtins\u001b[39m\u001b[38;5;124m'\u001b[39m\u001b[38;5;124m open.\u001b[39m\u001b[38;5;124m\"\u001b[39m\n\u001b[1;32m    280\u001b[0m     )\n\u001b[0;32m--> 282\u001b[0m \u001b[38;5;28;01mreturn\u001b[39;00m \u001b[43mio_open\u001b[49m\u001b[43m(\u001b[49m\u001b[43mfile\u001b[49m\u001b[43m,\u001b[49m\u001b[43m \u001b[49m\u001b[38;5;241;43m*\u001b[39;49m\u001b[43margs\u001b[49m\u001b[43m,\u001b[49m\u001b[43m \u001b[49m\u001b[38;5;241;43m*\u001b[39;49m\u001b[38;5;241;43m*\u001b[39;49m\u001b[43mkwargs\u001b[49m\u001b[43m)\u001b[49m\n",
      "\u001b[0;31mFileNotFoundError\u001b[0m: [Errno 2] No such file or directory: 'facialemotionmodel.json'"
     ]
    }
   ],
   "source": [
    "json_file = open(\"facialemotionmodel.json\", \"r\")\n",
    "model_json = json_file.read()\n",
    "json_file.close()\n",
    "model = model_from_json(model_json)\n",
    "model.load_weights(\"facialemotionmodel.h5\")\n"
   ]
  },
  {
   "cell_type": "code",
   "execution_count": 25,
   "id": "187cf296",
   "metadata": {},
   "outputs": [],
   "source": [
    "def ef(image):\n",
    "    img = load_img(image,grayscale =  True )\n",
    "    feature = np.array(img)\n",
    "    feature = feature.reshape(1,48,48,1)\n",
    "    return feature/255.0"
   ]
  },
  {
   "cell_type": "code",
   "execution_count": 29,
   "id": "ee148686",
   "metadata": {},
   "outputs": [
    {
     "name": "stdout",
     "output_type": "stream",
     "text": [
      "original image is of sad\n",
      "1/1 [==============================] - 0s 23ms/step\n"
     ]
    },
    {
     "ename": "NameError",
     "evalue": "name 'label' is not defined",
     "output_type": "error",
     "traceback": [
      "\u001b[0;31m---------------------------------------------------------------------------\u001b[0m",
      "\u001b[0;31mNameError\u001b[0m                                 Traceback (most recent call last)",
      "Cell \u001b[0;32mIn[29], line 5\u001b[0m\n\u001b[1;32m      3\u001b[0m img \u001b[38;5;241m=\u001b[39m ef(image)\n\u001b[1;32m      4\u001b[0m pred \u001b[38;5;241m=\u001b[39m model\u001b[38;5;241m.\u001b[39mpredict(img)\n\u001b[0;32m----> 5\u001b[0m pred_label \u001b[38;5;241m=\u001b[39m \u001b[43mlabel\u001b[49m[pred\u001b[38;5;241m.\u001b[39margmax()]\n\u001b[1;32m      6\u001b[0m \u001b[38;5;28mprint\u001b[39m(\u001b[38;5;124m\"\u001b[39m\u001b[38;5;124mmodel prediction is \u001b[39m\u001b[38;5;124m\"\u001b[39m,pred_label)\n",
      "\u001b[0;31mNameError\u001b[0m: name 'label' is not defined"
     ]
    }
   ],
   "source": [
    "image = 'images/train/sad/42.jpg'\n",
    "print(\"original image is of sad\")\n",
    "img = ef(image)\n",
    "pred = model.predict(img)\n",
    "pred_label = label[pred.argmax()]\n",
    "print(\"model prediction is \",pred_label)"
   ]
  },
  {
   "cell_type": "code",
   "execution_count": 30,
   "id": "80ff662e",
   "metadata": {},
   "outputs": [],
   "source": [
    "# Assuming you have a list of class labels for your model\n",
    "class_labels = ['label_0', 'label_1', 'label_2', ...]\n",
    "\n",
    "# Convert the class labels to a numpy array for indexing\n",
    "label = np.array(class_labels)\n"
   ]
  },
  {
   "cell_type": "code",
   "execution_count": 31,
   "id": "88a1ebac",
   "metadata": {},
   "outputs": [
    {
     "name": "stdout",
     "output_type": "stream",
     "text": [
      "original image is of sad\n",
      "1/1 [==============================] - 0s 32ms/step\n"
     ]
    },
    {
     "ename": "IndexError",
     "evalue": "index 5 is out of bounds for axis 0 with size 4",
     "output_type": "error",
     "traceback": [
      "\u001b[0;31m---------------------------------------------------------------------------\u001b[0m",
      "\u001b[0;31mIndexError\u001b[0m                                Traceback (most recent call last)",
      "Cell \u001b[0;32mIn[31], line 5\u001b[0m\n\u001b[1;32m      3\u001b[0m img \u001b[38;5;241m=\u001b[39m ef(image)\n\u001b[1;32m      4\u001b[0m pred \u001b[38;5;241m=\u001b[39m model\u001b[38;5;241m.\u001b[39mpredict(img)\n\u001b[0;32m----> 5\u001b[0m pred_label \u001b[38;5;241m=\u001b[39m \u001b[43mlabel\u001b[49m\u001b[43m[\u001b[49m\u001b[43mpred\u001b[49m\u001b[38;5;241;43m.\u001b[39;49m\u001b[43margmax\u001b[49m\u001b[43m(\u001b[49m\u001b[43m)\u001b[49m\u001b[43m]\u001b[49m\n\u001b[1;32m      6\u001b[0m \u001b[38;5;28mprint\u001b[39m(\u001b[38;5;124m\"\u001b[39m\u001b[38;5;124mmodel prediction is \u001b[39m\u001b[38;5;124m\"\u001b[39m,pred_label)\n",
      "\u001b[0;31mIndexError\u001b[0m: index 5 is out of bounds for axis 0 with size 4"
     ]
    }
   ],
   "source": [
    "image = 'images/train/sad/42.jpg'\n",
    "print(\"original image is of sad\")\n",
    "img = ef(image)\n",
    "pred = model.predict(img)\n",
    "pred_label = label[pred.argmax()]\n",
    "print(\"model prediction is \",pred_label)"
   ]
  },
  {
   "cell_type": "code",
   "execution_count": 33,
   "id": "38177001",
   "metadata": {},
   "outputs": [
    {
     "name": "stdout",
     "output_type": "stream",
     "text": [
      "Invalid index: 5\n"
     ]
    }
   ],
   "source": [
    "import numpy as np\n",
    "\n",
    "# Assuming you have a list of class labels for your model\n",
    "class_labels = ['label_0', 'label_1', 'label_2', 'label_3']\n",
    "\n",
    "# Convert the class labels to a numpy array for indexing\n",
    "label = np.array(class_labels)\n",
    "\n",
    "# Assuming 'pred' is the output from your model prediction\n",
    "predicted_index = pred.argmax()\n",
    "\n",
    "# Check if the index is within the valid range\n",
    "if 0 <= predicted_index < len(label):\n",
    "    pred_label = label[predicted_index]\n",
    "    print(\"Model prediction is\", pred_label)\n",
    "else:\n",
    "    print(\"Invalid index:\", predicted_index)\n"
   ]
  },
  {
   "cell_type": "code",
   "execution_count": 34,
   "id": "2ff7bbf7",
   "metadata": {},
   "outputs": [],
   "source": [
    "from keras.models import model_from_json"
   ]
  },
  {
   "cell_type": "code",
   "execution_count": 36,
   "id": "64601c39",
   "metadata": {},
   "outputs": [],
   "source": [
    "json_file = open(\"emotiondetector.json\", \"r\")\n",
    "model_json = json_file.read()\n",
    "json_file.close()\n",
    "model = model_from_json(model_json)\n",
    "model.load_weights(\"emotiondetector.h5\")"
   ]
  },
  {
   "cell_type": "code",
   "execution_count": 37,
   "id": "4d6ae9ac",
   "metadata": {},
   "outputs": [],
   "source": [
    "label = ['angry','disgust','fear','happy','neutral','sad','surprise']"
   ]
  },
  {
   "cell_type": "code",
   "execution_count": 38,
   "id": "34c3470d",
   "metadata": {},
   "outputs": [],
   "source": [
    "def ef(image):\n",
    "    img = load_img(image,grayscale =  True )\n",
    "    feature = np.array(img)\n",
    "    feature = feature.reshape(1,48,48,1)\n",
    "    return feature/255.0\n",
    "    "
   ]
  },
  {
   "cell_type": "code",
   "execution_count": 39,
   "id": "de3dbc72",
   "metadata": {},
   "outputs": [
    {
     "name": "stdout",
     "output_type": "stream",
     "text": [
      "original image is of sad\n",
      "1/1 [==============================] - 0s 119ms/step\n",
      "model prediction is  sad\n"
     ]
    }
   ],
   "source": [
    "image = 'images/train/sad/42.jpg'\n",
    "print(\"original image is of sad\")\n",
    "img = ef(image)\n",
    "pred = model.predict(img)\n",
    "pred_label = label[pred.argmax()]\n",
    "print(\"model prediction is \",pred_label)"
   ]
  },
  {
   "cell_type": "code",
   "execution_count": 40,
   "id": "7070e7a2",
   "metadata": {},
   "outputs": [],
   "source": [
    "import matplotlib.pyplot as plt\n",
    "%matplotlib inline"
   ]
  },
  {
   "cell_type": "code",
   "execution_count": 41,
   "id": "94542896",
   "metadata": {},
   "outputs": [
    {
     "name": "stdout",
     "output_type": "stream",
     "text": [
      "original image is of sad\n",
      "1/1 [==============================] - 0s 24ms/step\n",
      "model prediction is  sad\n"
     ]
    },
    {
     "name": "stderr",
     "output_type": "stream",
     "text": [
      "/Users/sarthakdubey/anaconda3/lib/python3.10/site-packages/keras_preprocessing/image/utils.py:107: UserWarning: grayscale is deprecated. Please use color_mode = \"grayscale\"\n",
      "  warnings.warn('grayscale is deprecated. Please use '\n"
     ]
    },
    {
     "data": {
      "text/plain": [
       "<matplotlib.image.AxesImage at 0x17db69960>"
      ]
     },
     "execution_count": 41,
     "metadata": {},
     "output_type": "execute_result"
    },
    {
     "data": {
      "image/png": "[encoded data removed]",
      "text/plain": [
       "<Figure size 640x480 with 1 Axes>"
      ]
     },
     "metadata": {},
     "output_type": "display_data"
    }
   ],
   "source": [
    "image = 'images/train/sad/42.jpg'\n",
    "print(\"original image is of sad\")\n",
    "img = ef(image)\n",
    "pred = model.predict(img)\n",
    "pred_label = label[pred.argmax()]\n",
    "print(\"model prediction is \",pred_label)\n",
    "plt.imshow(img.reshape(48,48),cmap='gray')"
   ]
  },
  {
   "cell_type": "code",
   "execution_count": 42,
   "id": "6caa356d",
   "metadata": {},
   "outputs": [
    {
     "name": "stdout",
     "output_type": "stream",
     "text": [
      "original image is of fear\n",
      "1/1 [==============================] - 0s 26ms/step\n",
      "model prediction is  sad\n"
     ]
    },
    {
     "data": {
      "text/plain": [
       "<matplotlib.image.AxesImage at 0x10b25ce50>"
      ]
     },
     "execution_count": 42,
     "metadata": {},
     "output_type": "execute_result"
    },
    {
     "data": {
      "image/png": "[encoded data removed]",
      "text/plain": [
       "<Figure size 640x480 with 1 Axes>"
      ]
     },
     "metadata": {},
     "output_type": "display_data"
    }
   ],
   "source": [
    "image = 'images/train/fear/2.jpg'\n",
    "print(\"original image is of fear\")\n",
    "img = ef(image)\n",
    "pred = model.predict(img)\n",
    "pred_label = label[pred.argmax()]\n",
    "print(\"model prediction is \",pred_label)\n",
    "plt.imshow(img.reshape(48,48),cmap='gray')"
   ]
  },
  {
   "cell_type": "code",
   "execution_count": 43,
   "id": "04daea34",
   "metadata": {
    "scrolled": true
   },
   "outputs": [
    {
     "name": "stdout",
     "output_type": "stream",
     "text": [
      "Number of layers in the model: 19\n"
     ]
    }
   ],
   "source": [
    "\n"
   ]
  },
  {
   "cell_type": "code",
   "execution_count": 44,
   "id": "e5203121",
   "metadata": {},
   "outputs": [
    {
     "name": "stdout",
     "output_type": "stream",
     "text": [
      "conv2d_4\n",
      "max_pooling2d_4\n",
      "flatten_1\n",
      "dense_3\n",
      "dense_4\n"
     ]
    }
   ],
   "source": [
    "from tensorflow.keras.models import Sequential\n",
    "from tensorflow.keras.layers import Dense, Conv2D, MaxPooling2D, Flatten\n",
    "\n",
    "# Example model\n",
    "model = Sequential()\n",
    "model.add(Conv2D(32, (3, 3), input_shape=(64, 64, 3), activation='relu'))\n",
    "model.add(MaxPooling2D(pool_size=(2, 2)))\n",
    "model.add(Flatten())\n",
    "model.add(Dense(128, activation='relu'))\n",
    "model.add(Dense(10, activation='softmax'))\n",
    "\n",
    "# Get the layers in the model\n",
    "layers = model.layers\n",
    "\n",
    "# Print layer names\n",
    "for layer in layers:\n",
    "    print(layer.name)\n"
   ]
  },
  {
   "cell_type": "code",
   "execution_count": 45,
   "id": "69fb6f69",
   "metadata": {},
   "outputs": [
    {
     "name": "stdout",
     "output_type": "stream",
     "text": [
      "Model: \"sequential_2\"\n",
      "_________________________________________________________________\n",
      " Layer (type)                Output Shape              Param #   \n",
      "=================================================================\n",
      " dense_5 (Dense)             (None, 64)                6464      \n",
      "                                                                 \n",
      " dense_6 (Dense)             (None, 10)                650       \n",
      "                                                                 \n",
      "=================================================================\n",
      "Total params: 7114 (27.79 KB)\n",
      "Trainable params: 7114 (27.79 KB)\n",
      "Non-trainable params: 0 (0.00 Byte)\n",
      "_________________________________________________________________\n"
     ]
    }
   ],
   "source": [
    "from keras.models import Sequential\n",
    "from keras.layers import Dense\n",
    "\n",
    "# Example model\n",
    "model = Sequential()\n",
    "model.add(Dense(64, input_shape=(100,), activation='relu'))\n",
    "model.add(Dense(10, activation='softmax'))\n",
    "\n",
    "# Print model summary\n",
    "model.summary()\n"
   ]
  },
  {
   "cell_type": "code",
   "execution_count": null,
   "id": "a8b91e4e",
   "metadata": {},
   "outputs": [],
   "source": []
  }
 ],
 "metadata": {
  "kernelspec": {
   "display_name": "Python 3 (ipykernel)",
   "language": "python",
   "name": "python3"
  },
  "language_info": {
   "codemirror_mode": {
    "name": "ipython",
    "version": 3
   },
   "file_extension": ".py",
   "mimetype": "text/x-python",
   "name": "python",
   "nbconvert_exporter": "python",
   "pygments_lexer": "ipython3",
   "version": "3.10.9"
  }
 },
 "nbformat": 4,
 "nbformat_minor": 5
}
